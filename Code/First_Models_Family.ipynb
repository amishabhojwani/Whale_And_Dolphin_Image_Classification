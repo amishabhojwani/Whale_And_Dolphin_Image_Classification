{
 "cells": [
  {
   "cell_type": "markdown",
   "id": "6ba59d56",
   "metadata": {},
   "source": [
    "# Import libraries and data "
   ]
  },
  {
   "cell_type": "code",
   "execution_count": 1,
   "id": "3c34159b",
   "metadata": {},
   "outputs": [],
   "source": [
    "# PICKLING\n",
    "import pickle\n",
    "\n",
    "# DF'S, MATHS AND PLOTTING\n",
    "import pandas as pd\n",
    "import numpy as np\n",
    "from scipy import stats\n",
    "import seaborn as sns\n",
    "import matplotlib.pyplot as plt\n",
    "\n",
    "pd.set_option('display.max_columns', None)\n",
    "pd.set_option('display.max_rows', None)\n",
    "\n",
    "# MODELLING\n",
    "from sklearn.metrics import classification_report\n",
    "from sklearn.preprocessing import LabelEncoder\n",
    "from sklearn.model_selection import train_test_split\n",
    "import tensorflow as tf\n",
    "from tensorflow.keras import layers, models"
   ]
  },
  {
   "cell_type": "code",
   "execution_count": 2,
   "id": "428855cd",
   "metadata": {},
   "outputs": [],
   "source": [
    "sampled_families = pd.read_pickle('../Data/sampled_families_pickle')\n",
    "sampled_families.reset_index(drop = True, inplace = True)"
   ]
  },
  {
   "cell_type": "code",
   "execution_count": 3,
   "id": "1f7e25a6",
   "metadata": {},
   "outputs": [
    {
     "data": {
      "text/html": [
       "<div>\n",
       "<style scoped>\n",
       "    .dataframe tbody tr th:only-of-type {\n",
       "        vertical-align: middle;\n",
       "    }\n",
       "\n",
       "    .dataframe tbody tr th {\n",
       "        vertical-align: top;\n",
       "    }\n",
       "\n",
       "    .dataframe thead th {\n",
       "        text-align: right;\n",
       "    }\n",
       "</style>\n",
       "<table border=\"1\" class=\"dataframe\">\n",
       "  <thead>\n",
       "    <tr style=\"text-align: right;\">\n",
       "      <th></th>\n",
       "      <th>image</th>\n",
       "      <th>species</th>\n",
       "      <th>individual_id</th>\n",
       "      <th>family</th>\n",
       "      <th>genus</th>\n",
       "      <th>img_array</th>\n",
       "    </tr>\n",
       "  </thead>\n",
       "  <tbody>\n",
       "    <tr>\n",
       "      <th>0</th>\n",
       "      <td>6ac0440827a1c4.jpg</td>\n",
       "      <td>melon_headed_whale</td>\n",
       "      <td>926b0ae3be20</td>\n",
       "      <td>Delphinidae</td>\n",
       "      <td>Peponocephala</td>\n",
       "      <td>[[[255, 116, 0], [255, 116, 0], [255, 124, 0],...</td>\n",
       "    </tr>\n",
       "    <tr>\n",
       "      <th>1</th>\n",
       "      <td>5c62aa0470b486.jpg</td>\n",
       "      <td>bottlenose_dolphin</td>\n",
       "      <td>0af729ecbdf7</td>\n",
       "      <td>Delphinidae</td>\n",
       "      <td>Tursiops</td>\n",
       "      <td>[[[130, 255, 126], [146, 255, 110], [154, 255,...</td>\n",
       "    </tr>\n",
       "    <tr>\n",
       "      <th>2</th>\n",
       "      <td>6decfec40b4662.jpg</td>\n",
       "      <td>bottlenose_dolphin</td>\n",
       "      <td>b9b86ad7a094</td>\n",
       "      <td>Delphinidae</td>\n",
       "      <td>Tursiops</td>\n",
       "      <td>[[[70, 255, 186], [66, 255, 190], [62, 255, 19...</td>\n",
       "    </tr>\n",
       "    <tr>\n",
       "      <th>3</th>\n",
       "      <td>9fcd68d085137a.jpg</td>\n",
       "      <td>bottlenose_dolphin</td>\n",
       "      <td>e736e034ad0c</td>\n",
       "      <td>Delphinidae</td>\n",
       "      <td>Tursiops</td>\n",
       "      <td>[[[70, 255, 186], [66, 255, 190], [46, 255, 21...</td>\n",
       "    </tr>\n",
       "    <tr>\n",
       "      <th>4</th>\n",
       "      <td>89304ac4df7277.jpg</td>\n",
       "      <td>pantropic_spotted_dolphin</td>\n",
       "      <td>098ba04354fb</td>\n",
       "      <td>Delphinidae</td>\n",
       "      <td>Stenella</td>\n",
       "      <td>[[[255, 52, 0], [255, 68, 0], [255, 56, 0], [2...</td>\n",
       "    </tr>\n",
       "  </tbody>\n",
       "</table>\n",
       "</div>"
      ],
      "text/plain": [
       "                image                    species individual_id       family  \\\n",
       "0  6ac0440827a1c4.jpg         melon_headed_whale  926b0ae3be20  Delphinidae   \n",
       "1  5c62aa0470b486.jpg         bottlenose_dolphin  0af729ecbdf7  Delphinidae   \n",
       "2  6decfec40b4662.jpg         bottlenose_dolphin  b9b86ad7a094  Delphinidae   \n",
       "3  9fcd68d085137a.jpg         bottlenose_dolphin  e736e034ad0c  Delphinidae   \n",
       "4  89304ac4df7277.jpg  pantropic_spotted_dolphin  098ba04354fb  Delphinidae   \n",
       "\n",
       "           genus                                          img_array  \n",
       "0  Peponocephala  [[[255, 116, 0], [255, 116, 0], [255, 124, 0],...  \n",
       "1       Tursiops  [[[130, 255, 126], [146, 255, 110], [154, 255,...  \n",
       "2       Tursiops  [[[70, 255, 186], [66, 255, 190], [62, 255, 19...  \n",
       "3       Tursiops  [[[70, 255, 186], [66, 255, 190], [46, 255, 21...  \n",
       "4       Stenella  [[[255, 52, 0], [255, 68, 0], [255, 56, 0], [2...  "
      ]
     },
     "execution_count": 3,
     "metadata": {},
     "output_type": "execute_result"
    }
   ],
   "source": [
    "sampled_families.head()"
   ]
  },
  {
   "cell_type": "markdown",
   "id": "36716dc3",
   "metadata": {},
   "source": [
    "# Useful functions "
   ]
  },
  {
   "cell_type": "code",
   "execution_count": null,
   "id": "efb95501",
   "metadata": {},
   "outputs": [],
   "source": [
    "def plot_learning_curves(model_history, validation = False):\n",
    "    \n",
    "    \"\"\"\n",
    "    Plot accuracy and loss through training epochs, with or without a validation set\n",
    "    \"\"\"\n",
    "    \n",
    "    df = pd.DataFrame(model_history.history)\n",
    "    df['epoch'] = range(len(df))\n",
    "\n",
    "    fig, ax = plt.subplots(1, 2, figsize = (10,4))\n",
    "    plt.suptitle('Learning curves')\n",
    "    ax[0].set_xlabel('epoch')\n",
    "    ax[0].set_ylabel('accuracy')\n",
    "    ax[1].set_xlabel('epoch')\n",
    "    ax[1].set_ylabel('loss')\n",
    "\n",
    "    if validation == False:\n",
    "        sns.lineplot(data = df['accuracy'], ax = ax[0])\n",
    "        sns.lineplot(data = df['loss'], ax = ax[1])\n",
    "    else:\n",
    "        sns.lineplot(data = df[['accuracy', 'val_accuracy']], ax = ax[0])\n",
    "        ax[0].legend(['training', 'validation'])\n",
    "        \n",
    "        sns.lineplot(data = df[['loss', 'val_loss']], ax = ax[1])\n",
    "        ax[1].legend(['training', 'validation'])\n",
    "        \n",
    "    return\n",
    "\n",
    "def find_family(pred, enc):\n",
    "    \n",
    "    \"\"\"\n",
    "    Decode a family using a specific encoder instantiation from a list of probabilities. \n",
    "    The highest probability will be the assigned family.\n",
    "    \"\"\"\n",
    "    \n",
    "    key = list(pred).index(pred.max())\n",
    "    fam = enc[key]\n",
    "    \n",
    "    return fam\n",
    "\n",
    "def decode(predictions, enc):\n",
    "    \n",
    "    \"\"\"Decode a list of families from a specific encoder instatiation\"\"\"\n",
    "    \n",
    "    fams = []\n",
    "    for row in predictions:\n",
    "        fams.append(find_family(row, enc))\n",
    "    \n",
    "    return fams\n",
    "\n",
    "def find_max(pred):\n",
    "    \"\"\"\n",
    "    Find max probability from preditions\n",
    "    \"\"\"\n",
    "    int_pred = []\n",
    "    for row in pred:\n",
    "        int_pred.append(list(row).index(row.max()))\n",
    "    return int_pred\n",
    "\n",
    "def full_classification_report(X_tr, X_te, y_tr, y_te, model):\n",
    "    \n",
    "    \"\"\"\n",
    "    Produce trian and test evaluation metrics of a model\n",
    "    \"\"\"\n",
    "    \n",
    "    # Train\n",
    "    y_pred_train = model.predict(X_tr)\n",
    "    print('###################### TRAIN SET ######################\\n\\n', \n",
    "          classification_report(y_tr, find_max(y_pred_train)), '\\n\\n')\n",
    "\n",
    "    # Test\n",
    "    y_pred = model.predict(X_te)\n",
    "    print('###################### TEST SET ######################\\n\\n', \n",
    "          classification_report(y_te, find_max(y_pred)))\n",
    "    \n",
    "    return\n",
    "\n",
    "def model_evaluate(model, history, X_tr, X_te, y_tr, y_te, val = False):\n",
    "    \n",
    "    \"\"\"\n",
    "    Plot learning curves and the full classification report of a model given training, test and optionally validation data\n",
    "    \"\"\"\n",
    "    \n",
    "    plot_learning_curves(history, validation = val)\n",
    "    full_classification_report(X_tr, X_te, y_tr, y_te, model)\n",
    "    \n",
    "    return"
   ]
  },
  {
   "cell_type": "markdown",
   "id": "a8707490",
   "metadata": {},
   "source": [
    "# Check data "
   ]
  },
  {
   "cell_type": "code",
   "execution_count": 8,
   "id": "e9003888",
   "metadata": {},
   "outputs": [
    {
     "data": {
      "text/plain": [
       "image            0\n",
       "species          0\n",
       "individual_id    0\n",
       "family           0\n",
       "genus            0\n",
       "img_array        0\n",
       "dtype: int64"
      ]
     },
     "execution_count": 8,
     "metadata": {},
     "output_type": "execute_result"
    }
   ],
   "source": [
    "sampled_families.isnull().sum()\n",
    "# no nulls"
   ]
  },
  {
   "cell_type": "code",
   "execution_count": 9,
   "id": "b01dbb3b",
   "metadata": {},
   "outputs": [
    {
     "data": {
      "text/html": [
       "<div>\n",
       "<style scoped>\n",
       "    .dataframe tbody tr th:only-of-type {\n",
       "        vertical-align: middle;\n",
       "    }\n",
       "\n",
       "    .dataframe tbody tr th {\n",
       "        vertical-align: top;\n",
       "    }\n",
       "\n",
       "    .dataframe thead th {\n",
       "        text-align: right;\n",
       "    }\n",
       "</style>\n",
       "<table border=\"1\" class=\"dataframe\">\n",
       "  <thead>\n",
       "    <tr style=\"text-align: right;\">\n",
       "      <th></th>\n",
       "      <th>image</th>\n",
       "      <th>species</th>\n",
       "      <th>individual_id</th>\n",
       "      <th>family</th>\n",
       "      <th>genus</th>\n",
       "      <th>img_array</th>\n",
       "    </tr>\n",
       "  </thead>\n",
       "  <tbody>\n",
       "  </tbody>\n",
       "</table>\n",
       "</div>"
      ],
      "text/plain": [
       "Empty DataFrame\n",
       "Columns: [image, species, individual_id, family, genus, img_array]\n",
       "Index: []"
      ]
     },
     "execution_count": 9,
     "metadata": {},
     "output_type": "execute_result"
    }
   ],
   "source": [
    "features = sampled_families.columns\n",
    "sampled_families[sampled_families[features[:-1]].duplicated()]\n",
    "# no duplicates"
   ]
  },
  {
   "cell_type": "code",
   "execution_count": 10,
   "id": "2e934b63",
   "metadata": {},
   "outputs": [
    {
     "data": {
      "text/plain": [
       "image            object\n",
       "species          object\n",
       "individual_id    object\n",
       "family           object\n",
       "genus            object\n",
       "img_array        object\n",
       "dtype: object"
      ]
     },
     "execution_count": 10,
     "metadata": {},
     "output_type": "execute_result"
    }
   ],
   "source": [
    "sampled_families.dtypes"
   ]
  },
  {
   "cell_type": "markdown",
   "id": "e5ca8483",
   "metadata": {},
   "source": [
    "# Modelling\n",
    "## Split and feature engineer"
   ]
  },
  {
   "cell_type": "code",
   "execution_count": 11,
   "id": "fc558572",
   "metadata": {},
   "outputs": [
    {
     "data": {
      "text/plain": [
       "Delphinidae        0.2\n",
       "Balaenopteridae    0.2\n",
       "Monodontidae       0.2\n",
       "Balaenidae         0.2\n",
       "Ziphiidae          0.2\n",
       "Name: family, dtype: float64"
      ]
     },
     "execution_count": 11,
     "metadata": {},
     "output_type": "execute_result"
    }
   ],
   "source": [
    "sampled_families['family'].value_counts(normalize=True)\n",
    "# no stratification necessary"
   ]
  },
  {
   "cell_type": "code",
   "execution_count": 7,
   "id": "3f591b32",
   "metadata": {},
   "outputs": [],
   "source": [
    "X = []\n",
    "for elem in sampled_families['img_array']:\n",
    "    X.append(elem)\n",
    "    \n",
    "X = np.array(X, dtype = 'float')\n",
    "y = sampled_families['family'].copy()"
   ]
  },
  {
   "cell_type": "code",
   "execution_count": 8,
   "id": "8a1fd579",
   "metadata": {},
   "outputs": [
    {
     "name": "stdout",
     "output_type": "stream",
     "text": [
      "(1364, 356, 356, 3) (341, 356, 356, 3)\n",
      "(1364,) (341,)\n"
     ]
    }
   ],
   "source": [
    "X_train, X_test, y_train, y_test = train_test_split(X, y, test_size = 0.2, random_state = 40)\n",
    "print(X_train.shape, X_test.shape) # check shape of image arrays\n",
    "print(y_train.shape, y_test.shape)\n",
    "\n",
    "# 356x356 in pixels with 3 channels (RGB)"
   ]
  },
  {
   "cell_type": "code",
   "execution_count": 9,
   "id": "b8d41adc",
   "metadata": {},
   "outputs": [],
   "source": [
    "lab_enc = LabelEncoder().fit(y_train)\n",
    "y_train = lab_enc.transform(y_train)\n",
    "y_test = lab_enc.transform(y_test)\n",
    "lab_enc_map = {i: l for i, l in enumerate(lab_enc.classes_)}"
   ]
  },
  {
   "cell_type": "code",
   "execution_count": 10,
   "id": "8cb169c1",
   "metadata": {},
   "outputs": [],
   "source": [
    "# normalise image arrays\n",
    "X_train_norm = X_train/255.0\n",
    "X_test_norm = X_test/255.0"
   ]
  },
  {
   "cell_type": "markdown",
   "id": "f628702d",
   "metadata": {},
   "source": [
    "## Artificial Neural Network "
   ]
  },
  {
   "cell_type": "code",
   "execution_count": 17,
   "id": "9cb1d760",
   "metadata": {},
   "outputs": [
    {
     "name": "stdout",
     "output_type": "stream",
     "text": [
      "Epoch 1/10\n",
      "43/43 [==============================] - 20s 335ms/step - loss: 18.1823 - accuracy: 0.2104\n",
      "Epoch 2/10\n",
      "43/43 [==============================] - 15s 350ms/step - loss: 1.6309 - accuracy: 0.2170\n",
      "Epoch 3/10\n",
      "43/43 [==============================] - 16s 360ms/step - loss: 1.6093 - accuracy: 0.2075\n",
      "Epoch 4/10\n",
      "43/43 [==============================] - 15s 358ms/step - loss: 1.6092 - accuracy: 0.2075\n",
      "Epoch 5/10\n",
      "43/43 [==============================] - 15s 342ms/step - loss: 1.6092 - accuracy: 0.2075\n",
      "Epoch 6/10\n",
      "43/43 [==============================] - 15s 342ms/step - loss: 1.6092 - accuracy: 0.2075\n",
      "Epoch 7/10\n",
      "43/43 [==============================] - 15s 340ms/step - loss: 1.6092 - accuracy: 0.2075\n",
      "Epoch 8/10\n",
      "43/43 [==============================] - 15s 339ms/step - loss: 1.6092 - accuracy: 0.2075\n",
      "Epoch 9/10\n",
      "43/43 [==============================] - 15s 340ms/step - loss: 1.6092 - accuracy: 0.2075\n",
      "Epoch 10/10\n",
      "43/43 [==============================] - 15s 338ms/step - loss: 1.6093 - accuracy: 0.2075\n"
     ]
    }
   ],
   "source": [
    "ann = models.Sequential([\n",
    "        layers.Flatten(input_shape=(356,356,3)),\n",
    "        layers.Dense(300, activation='relu'),\n",
    "        layers.Dense(100, activation='relu'),\n",
    "        layers.Dense(5, activation='softmax')    \n",
    "    ])\n",
    "\n",
    "ann.compile(optimizer='SGD',\n",
    "              loss='sparse_categorical_crossentropy',\n",
    "              metrics=['accuracy'])\n",
    "\n",
    "ann_hist = ann.fit(X_train_norm, y_train, epochs=10)"
   ]
  },
  {
   "cell_type": "code",
   "execution_count": 18,
   "id": "f7999387",
   "metadata": {},
   "outputs": [
    {
     "name": "stderr",
     "output_type": "stream",
     "text": [
      "C:\\Users\\User\\anaconda3\\lib\\site-packages\\sklearn\\metrics\\_classification.py:1248: UndefinedMetricWarning: Precision and F-score are ill-defined and being set to 0.0 in labels with no predicted samples. Use `zero_division` parameter to control this behavior.\n",
      "  _warn_prf(average, modifier, msg_start, len(result))\n",
      "C:\\Users\\User\\anaconda3\\lib\\site-packages\\sklearn\\metrics\\_classification.py:1248: UndefinedMetricWarning: Precision and F-score are ill-defined and being set to 0.0 in labels with no predicted samples. Use `zero_division` parameter to control this behavior.\n",
      "  _warn_prf(average, modifier, msg_start, len(result))\n",
      "C:\\Users\\User\\anaconda3\\lib\\site-packages\\sklearn\\metrics\\_classification.py:1248: UndefinedMetricWarning: Precision and F-score are ill-defined and being set to 0.0 in labels with no predicted samples. Use `zero_division` parameter to control this behavior.\n",
      "  _warn_prf(average, modifier, msg_start, len(result))\n"
     ]
    },
    {
     "name": "stdout",
     "output_type": "stream",
     "text": [
      "###################### TRAIN SET ######################\n",
      "\n",
      "               precision    recall  f1-score   support\n",
      "\n",
      "           0       0.00      0.00      0.00       260\n",
      "           1       0.00      0.00      0.00       270\n",
      "           2       0.21      1.00      0.34       283\n",
      "           3       0.00      0.00      0.00       273\n",
      "           4       0.00      0.00      0.00       278\n",
      "\n",
      "    accuracy                           0.21      1364\n",
      "   macro avg       0.04      0.20      0.07      1364\n",
      "weighted avg       0.04      0.21      0.07      1364\n",
      " \n",
      "\n",
      "\n"
     ]
    },
    {
     "name": "stderr",
     "output_type": "stream",
     "text": [
      "C:\\Users\\User\\anaconda3\\lib\\site-packages\\sklearn\\metrics\\_classification.py:1248: UndefinedMetricWarning: Precision and F-score are ill-defined and being set to 0.0 in labels with no predicted samples. Use `zero_division` parameter to control this behavior.\n",
      "  _warn_prf(average, modifier, msg_start, len(result))\n",
      "C:\\Users\\User\\anaconda3\\lib\\site-packages\\sklearn\\metrics\\_classification.py:1248: UndefinedMetricWarning: Precision and F-score are ill-defined and being set to 0.0 in labels with no predicted samples. Use `zero_division` parameter to control this behavior.\n",
      "  _warn_prf(average, modifier, msg_start, len(result))\n",
      "C:\\Users\\User\\anaconda3\\lib\\site-packages\\sklearn\\metrics\\_classification.py:1248: UndefinedMetricWarning: Precision and F-score are ill-defined and being set to 0.0 in labels with no predicted samples. Use `zero_division` parameter to control this behavior.\n",
      "  _warn_prf(average, modifier, msg_start, len(result))\n"
     ]
    },
    {
     "name": "stdout",
     "output_type": "stream",
     "text": [
      "###################### TEST SET ######################\n",
      "\n",
      "               precision    recall  f1-score   support\n",
      "\n",
      "           0       0.00      0.00      0.00        81\n",
      "           1       0.00      0.00      0.00        71\n",
      "           2       0.17      1.00      0.29        58\n",
      "           3       0.00      0.00      0.00        68\n",
      "           4       0.00      0.00      0.00        63\n",
      "\n",
      "    accuracy                           0.17       341\n",
      "   macro avg       0.03      0.20      0.06       341\n",
      "weighted avg       0.03      0.17      0.05       341\n",
      "\n"
     ]
    },
    {
     "data": {
      "image/png": "[encoded data removed]",
      "text/plain": [
       "<Figure size 720x288 with 2 Axes>"
      ]
     },
     "metadata": {
      "needs_background": "light"
     },
     "output_type": "display_data"
    }
   ],
   "source": [
    "model_evaluate(ann, ann_hist, X_train, X_test, y_train, y_test)"
   ]
  },
  {
   "cell_type": "markdown",
   "id": "02c64ba4",
   "metadata": {},
   "source": [
    "Only recognising observations as class 2. "
   ]
  },
  {
   "cell_type": "markdown",
   "id": "4b6eeaf6",
   "metadata": {},
   "source": [
    "## Convolutional Neural Network "
   ]
  },
  {
   "cell_type": "code",
   "execution_count": 11,
   "id": "1602e45d",
   "metadata": {},
   "outputs": [
    {
     "name": "stdout",
     "output_type": "stream",
     "text": [
      "Epoch 1/10\n",
      "35/35 [==============================] - 58s 2s/step - loss: 3.0017 - accuracy: 0.3474 - val_loss: 1.4828 - val_accuracy: 0.3883\n",
      "Epoch 2/10\n",
      "35/35 [==============================] - 53s 2s/step - loss: 1.1478 - accuracy: 0.5518 - val_loss: 1.3079 - val_accuracy: 0.5495\n",
      "Epoch 3/10\n",
      "35/35 [==============================] - 52s 2s/step - loss: 0.9975 - accuracy: 0.6370 - val_loss: 1.1768 - val_accuracy: 0.6154\n",
      "Epoch 4/10\n",
      "35/35 [==============================] - 72s 2s/step - loss: 0.8272 - accuracy: 0.6874 - val_loss: 1.0323 - val_accuracy: 0.6593\n",
      "Epoch 5/10\n",
      "35/35 [==============================] - 66s 2s/step - loss: 0.7469 - accuracy: 0.7379 - val_loss: 1.0184 - val_accuracy: 0.6374\n",
      "Epoch 6/10\n",
      "35/35 [==============================] - 64s 2s/step - loss: 0.6878 - accuracy: 0.7544 - val_loss: 1.0765 - val_accuracy: 0.6007\n",
      "Epoch 7/10\n",
      "35/35 [==============================] - 61s 2s/step - loss: 0.5049 - accuracy: 0.8396 - val_loss: 0.9774 - val_accuracy: 0.6484\n",
      "Epoch 8/10\n",
      "35/35 [==============================] - 62s 2s/step - loss: 0.3492 - accuracy: 0.8900 - val_loss: 1.1152 - val_accuracy: 0.6117\n",
      "Epoch 9/10\n",
      "35/35 [==============================] - 65s 2s/step - loss: 0.2425 - accuracy: 0.9322 - val_loss: 1.0653 - val_accuracy: 0.6374\n",
      "Epoch 10/10\n",
      "35/35 [==============================] - 66s 2s/step - loss: 0.1681 - accuracy: 0.9597 - val_loss: 1.1815 - val_accuracy: 0.6190\n"
     ]
    }
   ],
   "source": [
    "cnn = models.Sequential([\n",
    "    layers.Conv2D(filters=10, kernel_size=(3, 3), activation='relu', input_shape=(356, 356, 3)),\n",
    "    layers.MaxPooling2D((2, 2)),\n",
    "    \n",
    "    layers.Dropout(0.25),\n",
    "    \n",
    "    layers.Conv2D(filters=10, kernel_size=(3, 3), activation='relu'),\n",
    "    layers.MaxPooling2D((2, 2)),\n",
    "    \n",
    "    layers.Flatten(),\n",
    "    layers.Dense(64, activation='relu'),\n",
    "    layers.Dense(5, activation='softmax')\n",
    "])\n",
    "\n",
    "cnn.compile(optimizer='adam',\n",
    "              loss='sparse_categorical_crossentropy',\n",
    "              metrics=['accuracy'])\n",
    "\n",
    "cnn_hist = cnn.fit(X_train_norm, y_train, epochs=10, validation_split = 0.2)"
   ]
  },
  {
   "cell_type": "code",
   "execution_count": 12,
   "id": "074b06b3",
   "metadata": {},
   "outputs": [
    {
     "name": "stdout",
     "output_type": "stream",
     "text": [
      "###################### TRAIN SET ######################\n",
      "\n",
      "               precision    recall  f1-score   support\n",
      "\n",
      "           0       0.93      0.92      0.93       260\n",
      "           1       0.85      0.89      0.87       270\n",
      "           2       0.96      0.88      0.92       283\n",
      "           3       0.89      0.95      0.92       273\n",
      "           4       0.91      0.90      0.91       278\n",
      "\n",
      "    accuracy                           0.91      1364\n",
      "   macro avg       0.91      0.91      0.91      1364\n",
      "weighted avg       0.91      0.91      0.91      1364\n",
      " \n",
      "\n",
      "\n",
      "###################### TEST SET ######################\n",
      "\n",
      "               precision    recall  f1-score   support\n",
      "\n",
      "           0       0.79      0.74      0.76        81\n",
      "           1       0.46      0.51      0.48        71\n",
      "           2       0.58      0.48      0.53        58\n",
      "           3       0.79      0.78      0.79        68\n",
      "           4       0.56      0.63      0.59        63\n",
      "\n",
      "    accuracy                           0.64       341\n",
      "   macro avg       0.64      0.63      0.63       341\n",
      "weighted avg       0.64      0.64      0.64       341\n",
      "\n"
     ]
    },
    {
     "data": {
      "image/png": "[encoded data removed]",
      "text/plain": [
       "<Figure size 720x288 with 2 Axes>"
      ]
     },
     "metadata": {
      "needs_background": "light"
     },
     "output_type": "display_data"
    }
   ],
   "source": [
    "model_evaluate(cnn, cnn_hist, X_train_norm, X_test_norm, y_train, y_test, val = True)"
   ]
  },
  {
   "cell_type": "markdown",
   "id": "f04e2b00",
   "metadata": {},
   "source": [
    "Overfit the training data. Needs more regularisation."
   ]
  }
 ],
 "metadata": {
  "kernelspec": {
   "display_name": "Python 3 (ipykernel)",
   "language": "python",
   "name": "python3"
  },
  "language_info": {
   "codemirror_mode": {
    "name": "ipython",
    "version": 3
   },
   "file_extension": ".py",
   "mimetype": "text/x-python",
   "name": "python",
   "nbconvert_exporter": "python",
   "pygments_lexer": "ipython3",
   "version": "3.9.7"
  }
 },
 "nbformat": 4,
 "nbformat_minor": 5
}
