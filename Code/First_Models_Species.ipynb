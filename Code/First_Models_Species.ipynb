{
 "cells": [
  {
   "cell_type": "markdown",
   "id": "6ba59d56",
   "metadata": {},
   "source": [
    "# Import libraries and data "
   ]
  },
  {
   "cell_type": "code",
   "execution_count": 1,
   "id": "3c34159b",
   "metadata": {},
   "outputs": [],
   "source": [
    "# PICKLING\n",
    "import pickle\n",
    "\n",
    "# DF'S, MATHS AND PLOTTING\n",
    "import pandas as pd\n",
    "import numpy as np\n",
    "from scipy import stats\n",
    "import seaborn as sns\n",
    "import matplotlib.pyplot as plt\n",
    "\n",
    "pd.set_option('display.max_columns', None)\n",
    "pd.set_option('display.max_rows', None)\n",
    "\n",
    "# MODELLING\n",
    "from sklearn.metrics import classification_report\n",
    "from sklearn.preprocessing import LabelEncoder\n",
    "from sklearn.model_selection import train_test_split\n",
    "import tensorflow as tf\n",
    "from tensorflow.keras import layers, models"
   ]
  },
  {
   "cell_type": "code",
   "execution_count": 3,
   "id": "428855cd",
   "metadata": {},
   "outputs": [],
   "source": [
    "sampled_species = pd.read_pickle('../Data/sampled_species_pickle')\n",
    "sampled_species.reset_index(drop = True, inplace = True)"
   ]
  },
  {
   "cell_type": "code",
   "execution_count": 5,
   "id": "1f7e25a6",
   "metadata": {},
   "outputs": [
    {
     "data": {
      "text/html": [
       "<div>\n",
       "<style scoped>\n",
       "    .dataframe tbody tr th:only-of-type {\n",
       "        vertical-align: middle;\n",
       "    }\n",
       "\n",
       "    .dataframe tbody tr th {\n",
       "        vertical-align: top;\n",
       "    }\n",
       "\n",
       "    .dataframe thead th {\n",
       "        text-align: right;\n",
       "    }\n",
       "</style>\n",
       "<table border=\"1\" class=\"dataframe\">\n",
       "  <thead>\n",
       "    <tr style=\"text-align: right;\">\n",
       "      <th></th>\n",
       "      <th>image</th>\n",
       "      <th>species</th>\n",
       "      <th>individual_id</th>\n",
       "      <th>family</th>\n",
       "      <th>genus</th>\n",
       "      <th>img_array</th>\n",
       "    </tr>\n",
       "  </thead>\n",
       "  <tbody>\n",
       "    <tr>\n",
       "      <th>0</th>\n",
       "      <td>20c1a079f7f24d.jpg</td>\n",
       "      <td>melon_headed_whale</td>\n",
       "      <td>ba8e231445cd</td>\n",
       "      <td>Delphinidae</td>\n",
       "      <td>Peponocephala</td>\n",
       "      <td>[[[202, 255, 54], [206, 255, 50], [214, 255, 4...</td>\n",
       "    </tr>\n",
       "    <tr>\n",
       "      <th>1</th>\n",
       "      <td>d77088a2a5b618.jpg</td>\n",
       "      <td>melon_headed_whale</td>\n",
       "      <td>d27efa233336</td>\n",
       "      <td>Delphinidae</td>\n",
       "      <td>Peponocephala</td>\n",
       "      <td>[[[246, 255, 10], [255, 248, 0], [255, 248, 0]...</td>\n",
       "    </tr>\n",
       "    <tr>\n",
       "      <th>2</th>\n",
       "      <td>89ca19c54366f5.jpg</td>\n",
       "      <td>melon_headed_whale</td>\n",
       "      <td>adac6f755888</td>\n",
       "      <td>Delphinidae</td>\n",
       "      <td>Peponocephala</td>\n",
       "      <td>[[[0, 184, 255], [0, 184, 255], [0, 188, 255],...</td>\n",
       "    </tr>\n",
       "    <tr>\n",
       "      <th>3</th>\n",
       "      <td>dd0ae4014a02ce.jpg</td>\n",
       "      <td>melon_headed_whale</td>\n",
       "      <td>55beece99391</td>\n",
       "      <td>Delphinidae</td>\n",
       "      <td>Peponocephala</td>\n",
       "      <td>[[[174, 255, 82], [174, 255, 82], [178, 255, 7...</td>\n",
       "    </tr>\n",
       "    <tr>\n",
       "      <th>4</th>\n",
       "      <td>6d71d19da6279e.jpg</td>\n",
       "      <td>melon_headed_whale</td>\n",
       "      <td>9e94c20b6c0a</td>\n",
       "      <td>Delphinidae</td>\n",
       "      <td>Peponocephala</td>\n",
       "      <td>[[[6, 255, 250], [10, 255, 246], [14, 255, 242...</td>\n",
       "    </tr>\n",
       "  </tbody>\n",
       "</table>\n",
       "</div>"
      ],
      "text/plain": [
       "                image             species individual_id       family  \\\n",
       "0  20c1a079f7f24d.jpg  melon_headed_whale  ba8e231445cd  Delphinidae   \n",
       "1  d77088a2a5b618.jpg  melon_headed_whale  d27efa233336  Delphinidae   \n",
       "2  89ca19c54366f5.jpg  melon_headed_whale  adac6f755888  Delphinidae   \n",
       "3  dd0ae4014a02ce.jpg  melon_headed_whale  55beece99391  Delphinidae   \n",
       "4  6d71d19da6279e.jpg  melon_headed_whale  9e94c20b6c0a  Delphinidae   \n",
       "\n",
       "           genus                                          img_array  \n",
       "0  Peponocephala  [[[202, 255, 54], [206, 255, 50], [214, 255, 4...  \n",
       "1  Peponocephala  [[[246, 255, 10], [255, 248, 0], [255, 248, 0]...  \n",
       "2  Peponocephala  [[[0, 184, 255], [0, 184, 255], [0, 188, 255],...  \n",
       "3  Peponocephala  [[[174, 255, 82], [174, 255, 82], [178, 255, 7...  \n",
       "4  Peponocephala  [[[6, 255, 250], [10, 255, 246], [14, 255, 242...  "
      ]
     },
     "execution_count": 5,
     "metadata": {},
     "output_type": "execute_result"
    }
   ],
   "source": [
    "sampled_species.head()"
   ]
  },
  {
   "cell_type": "markdown",
   "id": "36716dc3",
   "metadata": {},
   "source": [
    "# Useful functions "
   ]
  },
  {
   "cell_type": "code",
   "execution_count": 6,
   "id": "c19f24a1",
   "metadata": {},
   "outputs": [],
   "source": [
    "def plot_learning_curves(model_history, validation = False):\n",
    "    \n",
    "    \"\"\"\n",
    "    Plot accuracy and loss through training epochs, with or without a validation set\n",
    "    \"\"\"\n",
    "    \n",
    "    df = pd.DataFrame(model_history.history)\n",
    "    df['epoch'] = range(len(df))\n",
    "\n",
    "    fig, ax = plt.subplots(1, 2, figsize = (10,4))\n",
    "    plt.suptitle('Learning curves')\n",
    "    ax[0].set_xlabel('epoch')\n",
    "    ax[0].set_ylabel('accuracy')\n",
    "    ax[1].set_xlabel('epoch')\n",
    "    ax[1].set_ylabel('loss')\n",
    "\n",
    "    if validation == False:\n",
    "        sns.lineplot(data = df['accuracy'], ax = ax[0])\n",
    "        sns.lineplot(data = df['loss'], ax = ax[1])\n",
    "    else:\n",
    "        sns.lineplot(data = df[['accuracy', 'val_accuracy']], ax = ax[0])\n",
    "        ax[0].legend(['training', 'validation'])\n",
    "        \n",
    "        sns.lineplot(data = df[['loss', 'val_loss']], ax = ax[1])\n",
    "        ax[1].legend(['training', 'validation'])\n",
    "        \n",
    "    return\n",
    "\n",
    "def find_family(pred, enc):\n",
    "    \n",
    "    \"\"\"\n",
    "    Decode a family using a specific encoder instantiation from a list of probabilities. \n",
    "    The highest probability will be the assigned family.\n",
    "    \"\"\"\n",
    "    \n",
    "    key = list(pred).index(pred.max())\n",
    "    fam = enc[key]\n",
    "    \n",
    "    return fam\n",
    "\n",
    "def decode(predictions, enc):\n",
    "    \n",
    "    \"\"\"Decode a list of families from a specific encoder instatiation\"\"\"\n",
    "    \n",
    "    fams = []\n",
    "    for row in predictions:\n",
    "        fams.append(find_family(row, enc))\n",
    "    \n",
    "    return fams\n",
    "\n",
    "def find_max(pred):\n",
    "    \"\"\"\n",
    "    Find max probability from preditions\n",
    "    \"\"\"\n",
    "    int_pred = []\n",
    "    for row in pred:\n",
    "        int_pred.append(list(row).index(row.max()))\n",
    "    return int_pred\n",
    "\n",
    "def full_classification_report(X_tr, X_te, y_tr, y_te, model):\n",
    "    \n",
    "    \"\"\"\n",
    "    Produce trian and test evaluation metrics of a model\n",
    "    \"\"\"\n",
    "    \n",
    "    # Train\n",
    "    y_pred_train = model.predict(X_tr)\n",
    "    print('###################### TRAIN SET ######################\\n\\n', \n",
    "          classification_report(y_tr, find_max(y_pred_train)), '\\n\\n')\n",
    "\n",
    "    # Test\n",
    "    y_pred = model.predict(X_te)\n",
    "    print('###################### TEST SET ######################\\n\\n', \n",
    "          classification_report(y_te, find_max(y_pred)))\n",
    "    \n",
    "    return\n",
    "\n",
    "def model_evaluate(model, history, X_tr, X_te, y_tr, y_te, val = False):\n",
    "    \n",
    "    \"\"\"\n",
    "    Plot learning curves and the full classification report of a model given training, test and optionally validation data\n",
    "    \"\"\"\n",
    "    \n",
    "    plot_learning_curves(history, validation = val)\n",
    "    full_classification_report(X_tr, X_te, y_tr, y_te, model)\n",
    "    \n",
    "    return"
   ]
  },
  {
   "cell_type": "markdown",
   "id": "a8707490",
   "metadata": {},
   "source": [
    "# Check data "
   ]
  },
  {
   "cell_type": "code",
   "execution_count": 11,
   "id": "e9003888",
   "metadata": {},
   "outputs": [
    {
     "data": {
      "text/plain": [
       "image            0\n",
       "species          0\n",
       "individual_id    0\n",
       "family           0\n",
       "genus            0\n",
       "img_array        0\n",
       "dtype: int64"
      ]
     },
     "execution_count": 11,
     "metadata": {},
     "output_type": "execute_result"
    }
   ],
   "source": [
    "sampled_species.isnull().sum()\n",
    "# no nulls"
   ]
  },
  {
   "cell_type": "code",
   "execution_count": 12,
   "id": "b01dbb3b",
   "metadata": {},
   "outputs": [
    {
     "data": {
      "text/html": [
       "<div>\n",
       "<style scoped>\n",
       "    .dataframe tbody tr th:only-of-type {\n",
       "        vertical-align: middle;\n",
       "    }\n",
       "\n",
       "    .dataframe tbody tr th {\n",
       "        vertical-align: top;\n",
       "    }\n",
       "\n",
       "    .dataframe thead th {\n",
       "        text-align: right;\n",
       "    }\n",
       "</style>\n",
       "<table border=\"1\" class=\"dataframe\">\n",
       "  <thead>\n",
       "    <tr style=\"text-align: right;\">\n",
       "      <th></th>\n",
       "      <th>image</th>\n",
       "      <th>species</th>\n",
       "      <th>individual_id</th>\n",
       "      <th>family</th>\n",
       "      <th>genus</th>\n",
       "      <th>img_array</th>\n",
       "    </tr>\n",
       "  </thead>\n",
       "  <tbody>\n",
       "  </tbody>\n",
       "</table>\n",
       "</div>"
      ],
      "text/plain": [
       "Empty DataFrame\n",
       "Columns: [image, species, individual_id, family, genus, img_array]\n",
       "Index: []"
      ]
     },
     "execution_count": 12,
     "metadata": {},
     "output_type": "execute_result"
    }
   ],
   "source": [
    "features = sampled_species.columns\n",
    "sampled_species[sampled_species[features[:-1]].duplicated()]\n",
    "# no duplicates"
   ]
  },
  {
   "cell_type": "code",
   "execution_count": 13,
   "id": "2e934b63",
   "metadata": {},
   "outputs": [
    {
     "data": {
      "text/plain": [
       "image            object\n",
       "species          object\n",
       "individual_id    object\n",
       "family           object\n",
       "genus            object\n",
       "img_array        object\n",
       "dtype: object"
      ]
     },
     "execution_count": 13,
     "metadata": {},
     "output_type": "execute_result"
    }
   ],
   "source": [
    "sampled_species.dtypes"
   ]
  },
  {
   "cell_type": "markdown",
   "id": "e5ca8483",
   "metadata": {},
   "source": [
    "# Modelling\n",
    "## Split and feature engineer"
   ]
  },
  {
   "cell_type": "code",
   "execution_count": 14,
   "id": "fc558572",
   "metadata": {},
   "outputs": [
    {
     "data": {
      "text/plain": [
       "melon_headed_whale          0.05\n",
       "humpback_whale              0.05\n",
       "white_sided_dolphin         0.05\n",
       "spotted_dolphin             0.05\n",
       "cuviers_beaked_whale        0.05\n",
       "spinner_dolphin             0.05\n",
       "sei_whale                   0.05\n",
       "long_finned_pilot_whale     0.05\n",
       "dusky_dolphin               0.05\n",
       "killer_whale                0.05\n",
       "common_dolphin              0.05\n",
       "southern_right_whale        0.05\n",
       "gray_whale                  0.05\n",
       "blue_whale                  0.05\n",
       "fin_whale                   0.05\n",
       "minke_whale                 0.05\n",
       "beluga                      0.05\n",
       "bottlenose_dolphin          0.05\n",
       "false_killer_whale          0.05\n",
       "short_finned_pilot_whale    0.05\n",
       "Name: species, dtype: float64"
      ]
     },
     "execution_count": 14,
     "metadata": {},
     "output_type": "execute_result"
    }
   ],
   "source": [
    "sampled_species['species'].value_counts(normalize=True)\n",
    "# no stratification necessary"
   ]
  },
  {
   "cell_type": "code",
   "execution_count": 15,
   "id": "eed6549a",
   "metadata": {},
   "outputs": [
    {
     "data": {
      "text/plain": [
       "20"
      ]
     },
     "execution_count": 15,
     "metadata": {},
     "output_type": "execute_result"
    }
   ],
   "source": [
    "# number of unique species\n",
    "len(sampled_species['species'].unique())"
   ]
  },
  {
   "cell_type": "code",
   "execution_count": 17,
   "id": "3f591b32",
   "metadata": {},
   "outputs": [],
   "source": [
    "X = []\n",
    "for elem in sampled_species['img_array']:\n",
    "    X.append(elem)\n",
    "    \n",
    "X = np.array(X, dtype = 'float')\n",
    "y = sampled_species['species'].copy()"
   ]
  },
  {
   "cell_type": "code",
   "execution_count": 18,
   "id": "8a1fd579",
   "metadata": {},
   "outputs": [
    {
     "name": "stdout",
     "output_type": "stream",
     "text": [
      "(3200, 356, 356, 3) (800, 356, 356, 3)\n",
      "(3200,) (800,)\n"
     ]
    }
   ],
   "source": [
    "X_train, X_test, y_train, y_test = train_test_split(X, y, test_size = 0.2, random_state = 40)\n",
    "print(X_train.shape, X_test.shape) # check shape of image arrays\n",
    "print(y_train.shape, y_test.shape)\n",
    "\n",
    "# 356x356 in pixels with 3 channels (RGB)"
   ]
  },
  {
   "cell_type": "code",
   "execution_count": 19,
   "id": "b8d41adc",
   "metadata": {},
   "outputs": [],
   "source": [
    "lab_enc = LabelEncoder().fit(y_train)\n",
    "\n",
    "y_train = lab_enc.transform(y_train)\n",
    "y_test = lab_enc.transform(y_test)\n",
    "\n",
    "lab_enc_map = {i: l for i, l in enumerate(lab_enc.classes_)}"
   ]
  },
  {
   "cell_type": "code",
   "execution_count": 20,
   "id": "ae4b99c3",
   "metadata": {},
   "outputs": [
    {
     "data": {
      "text/plain": [
       "{0: 'beluga',\n",
       " 1: 'blue_whale',\n",
       " 2: 'bottlenose_dolphin',\n",
       " 3: 'common_dolphin',\n",
       " 4: 'cuviers_beaked_whale',\n",
       " 5: 'dusky_dolphin',\n",
       " 6: 'false_killer_whale',\n",
       " 7: 'fin_whale',\n",
       " 8: 'gray_whale',\n",
       " 9: 'humpback_whale',\n",
       " 10: 'killer_whale',\n",
       " 11: 'long_finned_pilot_whale',\n",
       " 12: 'melon_headed_whale',\n",
       " 13: 'minke_whale',\n",
       " 14: 'sei_whale',\n",
       " 15: 'short_finned_pilot_whale',\n",
       " 16: 'southern_right_whale',\n",
       " 17: 'spinner_dolphin',\n",
       " 18: 'spotted_dolphin',\n",
       " 19: 'white_sided_dolphin'}"
      ]
     },
     "execution_count": 20,
     "metadata": {},
     "output_type": "execute_result"
    }
   ],
   "source": [
    "lab_enc_map"
   ]
  },
  {
   "cell_type": "code",
   "execution_count": 21,
   "id": "8cb169c1",
   "metadata": {},
   "outputs": [],
   "source": [
    "# normalise image arrays\n",
    "X_train_norm = X_train/255.0\n",
    "X_test_norm = X_test/255.0"
   ]
  },
  {
   "cell_type": "code",
   "execution_count": 22,
   "id": "4f8eaea6",
   "metadata": {},
   "outputs": [
    {
     "data": {
      "text/plain": [
       "array([[[0.        , 0.8       , 1.        ],\n",
       "        [0.        , 0.75294118, 1.        ],\n",
       "        [0.        , 0.72156863, 1.        ],\n",
       "        ...,\n",
       "        [0.        , 0.95686275, 1.        ],\n",
       "        [0.        , 0.98823529, 1.        ],\n",
       "        [0.00392157, 1.        , 0.99607843]],\n",
       "\n",
       "       [[0.        , 0.94117647, 1.        ],\n",
       "        [0.        , 0.87843137, 1.        ],\n",
       "        [0.        , 0.83137255, 1.        ],\n",
       "        ...,\n",
       "        [0.        , 0.87843137, 1.        ],\n",
       "        [0.        , 0.90980392, 1.        ],\n",
       "        [0.        , 0.94117647, 1.        ]],\n",
       "\n",
       "       [[0.        , 0.90980392, 1.        ],\n",
       "        [0.        , 0.8627451 , 1.        ],\n",
       "        [0.        , 0.8       , 1.        ],\n",
       "        ...,\n",
       "        [0.        , 0.72156863, 1.        ],\n",
       "        [0.        , 0.75294118, 1.        ],\n",
       "        [0.        , 0.78431373, 1.        ]],\n",
       "\n",
       "       ...,\n",
       "\n",
       "       [[0.3372549 , 1.        , 0.66666667],\n",
       "        [0.36862745, 1.        , 0.63529412],\n",
       "        [0.38431373, 1.        , 0.61960784],\n",
       "        ...,\n",
       "        [0.10196078, 1.        , 0.90196078],\n",
       "        [0.19607843, 1.        , 0.80784314],\n",
       "        [0.30588235, 1.        , 0.69803922]],\n",
       "\n",
       "       [[0.22745098, 1.        , 0.77647059],\n",
       "        [0.29019608, 1.        , 0.71372549],\n",
       "        [0.32156863, 1.        , 0.68235294],\n",
       "        ...,\n",
       "        [0.36862745, 1.        , 0.63529412],\n",
       "        [0.43137255, 1.        , 0.57254902],\n",
       "        [0.4627451 , 1.        , 0.54117647]],\n",
       "\n",
       "       [[0.03921569, 1.        , 0.96470588],\n",
       "        [0.08627451, 1.        , 0.91764706],\n",
       "        [0.13333333, 1.        , 0.87058824],\n",
       "        ...,\n",
       "        [0.41568627, 1.        , 0.58823529],\n",
       "        [0.4       , 1.        , 0.60392157],\n",
       "        [0.3372549 , 1.        , 0.66666667]]])"
      ]
     },
     "execution_count": 22,
     "metadata": {},
     "output_type": "execute_result"
    }
   ],
   "source": [
    "X_train_norm[0] # check X"
   ]
  },
  {
   "cell_type": "code",
   "execution_count": 25,
   "id": "445c4194",
   "metadata": {},
   "outputs": [
    {
     "data": {
      "text/plain": [
       "array([11,  2,  8,  0,  5, 11, 14, 10, 19, 11])"
      ]
     },
     "execution_count": 25,
     "metadata": {},
     "output_type": "execute_result"
    }
   ],
   "source": [
    "y_train[:10] # check y"
   ]
  },
  {
   "cell_type": "code",
   "execution_count": 24,
   "id": "0bfedaa3",
   "metadata": {},
   "outputs": [
    {
     "data": {
      "text/plain": [
       "0     0.052500\n",
       "16    0.051875\n",
       "1     0.051562\n",
       "10    0.051562\n",
       "13    0.051562\n",
       "6     0.051250\n",
       "12    0.051250\n",
       "8     0.050937\n",
       "15    0.050313\n",
       "19    0.049688\n",
       "2     0.049688\n",
       "14    0.049375\n",
       "7     0.049063\n",
       "18    0.049063\n",
       "5     0.049063\n",
       "9     0.048750\n",
       "11    0.048750\n",
       "17    0.048438\n",
       "4     0.047813\n",
       "3     0.047500\n",
       "dtype: float64"
      ]
     },
     "execution_count": 24,
     "metadata": {},
     "output_type": "execute_result"
    }
   ],
   "source": [
    "pd.Series(y_train).value_counts(normalize = True) # classes are balanced, because input data is balanced before split"
   ]
  },
  {
   "cell_type": "markdown",
   "id": "f628702d",
   "metadata": {},
   "source": [
    "## Artificial Neural Network "
   ]
  },
  {
   "cell_type": "code",
   "execution_count": 26,
   "id": "9cb1d760",
   "metadata": {},
   "outputs": [
    {
     "name": "stdout",
     "output_type": "stream",
     "text": [
      "Epoch 1/5\n",
      "100/100 [==============================] - 43s 377ms/step - loss: 6.6952 - accuracy: 0.0491\n",
      "Epoch 2/5\n",
      "100/100 [==============================] - 38s 381ms/step - loss: 2.9329 - accuracy: 0.0828\n",
      "Epoch 3/5\n",
      "100/100 [==============================] - 35s 348ms/step - loss: 2.8989 - accuracy: 0.0753\n",
      "Epoch 4/5\n",
      "100/100 [==============================] - 35s 351ms/step - loss: 2.8877 - accuracy: 0.0819\n",
      "Epoch 5/5\n",
      "100/100 [==============================] - 35s 355ms/step - loss: 2.8727 - accuracy: 0.0862\n"
     ]
    }
   ],
   "source": [
    "ann = models.Sequential([\n",
    "        layers.Flatten(input_shape=(356,356,3)),\n",
    "        layers.Dense(300, activation='relu'),\n",
    "        layers.Dense(100, activation='relu'),\n",
    "        layers.Dense(20, activation='softmax')    \n",
    "    ])\n",
    "\n",
    "ann.compile(optimizer='SGD',\n",
    "              loss='sparse_categorical_crossentropy',\n",
    "              metrics=['accuracy'])\n",
    "\n",
    "ann_hist = ann.fit(X_train_norm, y_train, epochs = 5)"
   ]
  },
  {
   "cell_type": "code",
   "execution_count": 28,
   "id": "f7999387",
   "metadata": {},
   "outputs": [
    {
     "name": "stderr",
     "output_type": "stream",
     "text": [
      "C:\\Users\\User\\anaconda3\\lib\\site-packages\\sklearn\\metrics\\_classification.py:1248: UndefinedMetricWarning: Precision and F-score are ill-defined and being set to 0.0 in labels with no predicted samples. Use `zero_division` parameter to control this behavior.\n",
      "  _warn_prf(average, modifier, msg_start, len(result))\n",
      "C:\\Users\\User\\anaconda3\\lib\\site-packages\\sklearn\\metrics\\_classification.py:1248: UndefinedMetricWarning: Precision and F-score are ill-defined and being set to 0.0 in labels with no predicted samples. Use `zero_division` parameter to control this behavior.\n",
      "  _warn_prf(average, modifier, msg_start, len(result))\n",
      "C:\\Users\\User\\anaconda3\\lib\\site-packages\\sklearn\\metrics\\_classification.py:1248: UndefinedMetricWarning: Precision and F-score are ill-defined and being set to 0.0 in labels with no predicted samples. Use `zero_division` parameter to control this behavior.\n",
      "  _warn_prf(average, modifier, msg_start, len(result))\n"
     ]
    },
    {
     "name": "stdout",
     "output_type": "stream",
     "text": [
      "###################### TRAIN SET ######################\n",
      "\n",
      "               precision    recall  f1-score   support\n",
      "\n",
      "           0       0.00      0.00      0.00       168\n",
      "           1       0.05      0.04      0.04       165\n",
      "           2       0.07      0.01      0.01       159\n",
      "           3       0.00      0.00      0.00       152\n",
      "           4       0.07      0.02      0.03       153\n",
      "           5       0.00      0.00      0.00       157\n",
      "           6       0.07      0.84      0.13       164\n",
      "           7       0.11      0.03      0.05       157\n",
      "           8       0.00      0.00      0.00       163\n",
      "           9       0.00      0.00      0.00       156\n",
      "          10       0.00      0.00      0.00       165\n",
      "          11       0.00      0.00      0.00       156\n",
      "          12       0.00      0.00      0.00       164\n",
      "          13       0.13      0.85      0.23       165\n",
      "          14       0.00      0.00      0.00       158\n",
      "          15       0.00      0.00      0.00       161\n",
      "          16       0.00      0.00      0.00       166\n",
      "          17       0.00      0.00      0.00       155\n",
      "          18       0.00      0.00      0.00       157\n",
      "          19       0.00      0.00      0.00       159\n",
      "\n",
      "    accuracy                           0.09      3200\n",
      "   macro avg       0.03      0.09      0.02      3200\n",
      "weighted avg       0.03      0.09      0.03      3200\n",
      " \n",
      "\n",
      "\n"
     ]
    },
    {
     "name": "stderr",
     "output_type": "stream",
     "text": [
      "C:\\Users\\User\\anaconda3\\lib\\site-packages\\sklearn\\metrics\\_classification.py:1248: UndefinedMetricWarning: Precision and F-score are ill-defined and being set to 0.0 in labels with no predicted samples. Use `zero_division` parameter to control this behavior.\n",
      "  _warn_prf(average, modifier, msg_start, len(result))\n",
      "C:\\Users\\User\\anaconda3\\lib\\site-packages\\sklearn\\metrics\\_classification.py:1248: UndefinedMetricWarning: Precision and F-score are ill-defined and being set to 0.0 in labels with no predicted samples. Use `zero_division` parameter to control this behavior.\n",
      "  _warn_prf(average, modifier, msg_start, len(result))\n",
      "C:\\Users\\User\\anaconda3\\lib\\site-packages\\sklearn\\metrics\\_classification.py:1248: UndefinedMetricWarning: Precision and F-score are ill-defined and being set to 0.0 in labels with no predicted samples. Use `zero_division` parameter to control this behavior.\n",
      "  _warn_prf(average, modifier, msg_start, len(result))\n"
     ]
    },
    {
     "name": "stdout",
     "output_type": "stream",
     "text": [
      "###################### TEST SET ######################\n",
      "\n",
      "               precision    recall  f1-score   support\n",
      "\n",
      "           0       0.00      0.00      0.00        32\n",
      "           1       0.05      0.06      0.06        35\n",
      "           2       0.00      0.00      0.00        41\n",
      "           3       0.00      0.00      0.00        48\n",
      "           4       0.00      0.00      0.00        47\n",
      "           5       0.00      0.00      0.00        43\n",
      "           6       0.07      0.83      0.12        36\n",
      "           7       0.11      0.02      0.04        43\n",
      "           8       0.00      0.00      0.00        37\n",
      "           9       0.00      0.00      0.00        44\n",
      "          10       0.00      0.00      0.00        35\n",
      "          11       0.00      0.00      0.00        44\n",
      "          12       0.00      0.00      0.00        36\n",
      "          13       0.09      0.71      0.15        35\n",
      "          14       0.00      0.00      0.00        42\n",
      "          15       0.00      0.00      0.00        39\n",
      "          16       0.00      0.00      0.00        34\n",
      "          17       0.00      0.00      0.00        45\n",
      "          18       0.00      0.00      0.00        43\n",
      "          19       0.00      0.00      0.00        41\n",
      "\n",
      "    accuracy                           0.07       800\n",
      "   macro avg       0.02      0.08      0.02       800\n",
      "weighted avg       0.02      0.07      0.02       800\n",
      "\n"
     ]
    },
    {
     "data": {
      "image/png": "[encoded data removed]",
      "text/plain": [
       "<Figure size 720x288 with 2 Axes>"
      ]
     },
     "metadata": {
      "needs_background": "light"
     },
     "output_type": "display_data"
    }
   ],
   "source": [
    "model_evaluate(ann, ann_hist, X_train_norm, X_test_norm, y_train, y_test)"
   ]
  },
  {
   "cell_type": "markdown",
   "id": "4b6eeaf6",
   "metadata": {},
   "source": [
    "## Convolutional Neural Network "
   ]
  },
  {
   "cell_type": "code",
   "execution_count": 30,
   "id": "1602e45d",
   "metadata": {},
   "outputs": [
    {
     "name": "stdout",
     "output_type": "stream",
     "text": [
      "Epoch 1/5\n",
      "100/100 [==============================] - 148s 1s/step - loss: 3.4921 - accuracy: 0.0587\n",
      "Epoch 2/5\n",
      "100/100 [==============================] - 144s 1s/step - loss: 2.8904 - accuracy: 0.1153\n",
      "Epoch 3/5\n",
      "100/100 [==============================] - 165s 2s/step - loss: 2.7375 - accuracy: 0.1388\n",
      "Epoch 4/5\n",
      "100/100 [==============================] - 161s 2s/step - loss: 2.5751 - accuracy: 0.1928\n",
      "Epoch 5/5\n",
      "100/100 [==============================] - 162s 2s/step - loss: 2.3780 - accuracy: 0.2375\n"
     ]
    }
   ],
   "source": [
    "cnn = models.Sequential([\n",
    "    layers.Conv2D(filters=10, kernel_size=(3, 3), activation='relu', input_shape=(356, 356, 3)),\n",
    "    layers.MaxPooling2D((2, 2)),\n",
    "    \n",
    "    layers.Conv2D(filters=10, kernel_size=(3, 3), activation='relu'),\n",
    "    layers.MaxPooling2D((2, 2)),\n",
    "    \n",
    "    layers.Flatten(),\n",
    "    layers.Dense(64, activation='relu'),\n",
    "    layers.Dense(20, activation='softmax')\n",
    "])\n",
    "\n",
    "cnn.compile(optimizer='adam',\n",
    "            loss='sparse_categorical_crossentropy',\n",
    "            metrics=['accuracy'])\n",
    "\n",
    "cnn_hist = cnn.fit(X_train_norm, y_train, epochs = 5)"
   ]
  },
  {
   "cell_type": "code",
   "execution_count": 32,
   "id": "074b06b3",
   "metadata": {},
   "outputs": [
    {
     "name": "stderr",
     "output_type": "stream",
     "text": [
      "C:\\Users\\User\\anaconda3\\lib\\site-packages\\sklearn\\metrics\\_classification.py:1248: UndefinedMetricWarning: Precision and F-score are ill-defined and being set to 0.0 in labels with no predicted samples. Use `zero_division` parameter to control this behavior.\n",
      "  _warn_prf(average, modifier, msg_start, len(result))\n",
      "C:\\Users\\User\\anaconda3\\lib\\site-packages\\sklearn\\metrics\\_classification.py:1248: UndefinedMetricWarning: Precision and F-score are ill-defined and being set to 0.0 in labels with no predicted samples. Use `zero_division` parameter to control this behavior.\n",
      "  _warn_prf(average, modifier, msg_start, len(result))\n",
      "C:\\Users\\User\\anaconda3\\lib\\site-packages\\sklearn\\metrics\\_classification.py:1248: UndefinedMetricWarning: Precision and F-score are ill-defined and being set to 0.0 in labels with no predicted samples. Use `zero_division` parameter to control this behavior.\n",
      "  _warn_prf(average, modifier, msg_start, len(result))\n"
     ]
    },
    {
     "name": "stdout",
     "output_type": "stream",
     "text": [
      "###################### TRAIN SET ######################\n",
      "\n",
      "               precision    recall  f1-score   support\n",
      "\n",
      "           0       0.80      0.64      0.71       168\n",
      "           1       0.33      0.87      0.48       165\n",
      "           2       0.15      0.21      0.18       159\n",
      "           3       0.00      0.00      0.00       152\n",
      "           4       0.59      0.29      0.39       153\n",
      "           5       0.49      0.32      0.38       157\n",
      "           6       0.19      0.71      0.30       164\n",
      "           7       0.00      0.00      0.00       157\n",
      "           8       0.57      0.02      0.05       163\n",
      "           9       0.21      0.03      0.06       156\n",
      "          10       0.17      0.82      0.28       165\n",
      "          11       0.19      0.05      0.08       156\n",
      "          12       0.00      0.00      0.00       164\n",
      "          13       0.52      0.16      0.24       165\n",
      "          14       0.52      0.91      0.66       158\n",
      "          15       0.11      0.06      0.08       161\n",
      "          16       0.15      0.09      0.11       166\n",
      "          17       1.00      0.01      0.01       155\n",
      "          18       0.31      0.45      0.37       157\n",
      "          19       0.43      0.02      0.04       159\n",
      "\n",
      "    accuracy                           0.29      3200\n",
      "   macro avg       0.34      0.28      0.22      3200\n",
      "weighted avg       0.34      0.29      0.22      3200\n",
      " \n",
      "\n",
      "\n"
     ]
    },
    {
     "name": "stderr",
     "output_type": "stream",
     "text": [
      "C:\\Users\\User\\anaconda3\\lib\\site-packages\\sklearn\\metrics\\_classification.py:1248: UndefinedMetricWarning: Precision and F-score are ill-defined and being set to 0.0 in labels with no predicted samples. Use `zero_division` parameter to control this behavior.\n",
      "  _warn_prf(average, modifier, msg_start, len(result))\n",
      "C:\\Users\\User\\anaconda3\\lib\\site-packages\\sklearn\\metrics\\_classification.py:1248: UndefinedMetricWarning: Precision and F-score are ill-defined and being set to 0.0 in labels with no predicted samples. Use `zero_division` parameter to control this behavior.\n",
      "  _warn_prf(average, modifier, msg_start, len(result))\n",
      "C:\\Users\\User\\anaconda3\\lib\\site-packages\\sklearn\\metrics\\_classification.py:1248: UndefinedMetricWarning: Precision and F-score are ill-defined and being set to 0.0 in labels with no predicted samples. Use `zero_division` parameter to control this behavior.\n",
      "  _warn_prf(average, modifier, msg_start, len(result))\n"
     ]
    },
    {
     "name": "stdout",
     "output_type": "stream",
     "text": [
      "###################### TEST SET ######################\n",
      "\n",
      "               precision    recall  f1-score   support\n",
      "\n",
      "           0       0.63      0.59      0.61        32\n",
      "           1       0.17      0.66      0.27        35\n",
      "           2       0.19      0.29      0.23        41\n",
      "           3       0.00      0.00      0.00        48\n",
      "           4       0.46      0.13      0.20        47\n",
      "           5       0.59      0.37      0.46        43\n",
      "           6       0.07      0.31      0.12        36\n",
      "           7       0.00      0.00      0.00        43\n",
      "           8       0.00      0.00      0.00        37\n",
      "           9       0.14      0.02      0.04        44\n",
      "          10       0.08      0.46      0.14        35\n",
      "          11       0.00      0.00      0.00        44\n",
      "          12       0.00      0.00      0.00        36\n",
      "          13       0.50      0.03      0.05        35\n",
      "          14       0.42      0.48      0.44        42\n",
      "          15       0.13      0.10      0.11        39\n",
      "          16       0.08      0.06      0.07        34\n",
      "          17       0.00      0.00      0.00        45\n",
      "          18       0.11      0.16      0.13        43\n",
      "          19       0.00      0.00      0.00        41\n",
      "\n",
      "    accuracy                           0.17       800\n",
      "   macro avg       0.18      0.18      0.14       800\n",
      "weighted avg       0.18      0.17      0.14       800\n",
      "\n"
     ]
    },
    {
     "data": {
      "image/png": "[encoded data removed]",
      "text/plain": [
       "<Figure size 720x288 with 2 Axes>"
      ]
     },
     "metadata": {
      "needs_background": "light"
     },
     "output_type": "display_data"
    }
   ],
   "source": [
    "model_evaluate(cnn, cnn_hist, X_train_norm, X_test_norm, y_train, y_test)"
   ]
  }
 ],
 "metadata": {
  "kernelspec": {
   "display_name": "Python 3 (ipykernel)",
   "language": "python",
   "name": "python3"
  },
  "language_info": {
   "codemirror_mode": {
    "name": "ipython",
    "version": 3
   },
   "file_extension": ".py",
   "mimetype": "text/x-python",
   "name": "python",
   "nbconvert_exporter": "python",
   "pygments_lexer": "ipython3",
   "version": "3.9.7"
  }
 },
 "nbformat": 4,
 "nbformat_minor": 5
}
